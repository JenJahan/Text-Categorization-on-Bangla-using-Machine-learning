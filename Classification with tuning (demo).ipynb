{
 "cells": [
  {
   "cell_type": "code",
   "execution_count": 1,
   "metadata": {},
   "outputs": [],
   "source": [
    "import numpy as np\n",
    "import pandas as pd\n",
    "import matplotlib.pyplot as plt\n",
    "\n",
    "# import warnings filter\n",
    "from warnings import simplefilter\n",
    "# ignore all future warnings\n",
    "simplefilter(action='ignore', category=FutureWarning)\n",
    "\n",
    "import logging\n",
    "from numpy import random\n",
    "#import gensim\n",
    "from sklearn.feature_extraction.text import CountVectorizer, TfidfVectorizer\n",
    "from sklearn.metrics import accuracy_score, confusion_matrix\n",
    "import matplotlib.pyplot as plt\n",
    "from bs4 import BeautifulSoup\n",
    "\n",
    "%matplotlib inline"
   ]
  },
  {
   "cell_type": "code",
   "execution_count": 2,
   "metadata": {},
   "outputs": [],
   "source": [
    "data = pd.read_csv(\"preProcessedData.csv\")\n",
    "# fraction of rows\n",
    "# here you get 75% of the rows\n",
    "train = data.sample(frac=0.75, random_state=99)\n",
    "test = data.loc[~data.index.isin(train.index), :]"
   ]
  },
  {
   "cell_type": "code",
   "execution_count": 3,
   "metadata": {},
   "outputs": [
    {
     "data": {
      "text/plain": [
       "(4995, 9743)"
      ]
     },
     "execution_count": 3,
     "metadata": {},
     "output_type": "execute_result"
    }
   ],
   "source": [
    "# Extracting features from text files\n",
    "from sklearn.feature_extraction.text import CountVectorizer\n",
    "count_vect = CountVectorizer()\n",
    "X_train_counts = count_vect.fit_transform(train['Text'].values.astype('U'))\n",
    "X_train_counts.shape"
   ]
  },
  {
   "cell_type": "code",
   "execution_count": 4,
   "metadata": {},
   "outputs": [
    {
     "data": {
      "text/plain": [
       "(4995, 9743)"
      ]
     },
     "execution_count": 4,
     "metadata": {},
     "output_type": "execute_result"
    }
   ],
   "source": [
    "# TF-IDF\n",
    "from sklearn.feature_extraction.text import TfidfTransformer\n",
    "tfidf_transformer = TfidfTransformer()\n",
    "X_train_tfidf = tfidf_transformer.fit_transform(X_train_counts)\n",
    "X_train_tfidf.shape"
   ]
  },
  {
   "cell_type": "code",
   "execution_count": 6,
   "metadata": {},
   "outputs": [
    {
     "data": {
      "text/plain": [
       "0.7387387387387387"
      ]
     },
     "execution_count": 6,
     "metadata": {},
     "output_type": "execute_result"
    }
   ],
   "source": [
    "# Machine Learning\n",
    "# Training Naive Bayes (NB) classifier on training data.\n",
    "from sklearn.naive_bayes import MultinomialNB\n",
    "clf = MultinomialNB().fit(X_train_tfidf, train.Label)\n",
    "# Building a pipeline: We can write less code and do all of the above, by building a pipeline as follows:\n",
    "# The names ‘vect’ , ‘tfidf’ and ‘clf’ are arbitrary but will be used later.\n",
    "# We will be using the 'text_clf' going forward.\n",
    "from sklearn.pipeline import Pipeline\n",
    "\n",
    "text_clf = Pipeline([('vect', CountVectorizer()), ('tfidf', TfidfTransformer()), ('clf', MultinomialNB())])\n",
    "\n",
    "text_clf = text_clf.fit(train['Text'].values.astype('U'), train.Label)\n",
    "# Performance of NB Classifier\n",
    "predicted = text_clf.predict(test['Text'].values.astype('U'))\n",
    "np.mean(predicted == test.Label)"
   ]
  },
  {
   "cell_type": "code",
   "execution_count": 8,
   "metadata": {},
   "outputs": [
    {
     "data": {
      "text/plain": [
       "0.8486486486486486"
      ]
     },
     "execution_count": 8,
     "metadata": {},
     "output_type": "execute_result"
    }
   ],
   "source": [
    "# Grid Search\n",
    "# Here, we are creating a list of parameters for which we would like to do performance tuning. \n",
    "# All the parameters name start with the classifier name (remember the arbitrary name we gave). \n",
    "# E.g. vect__ngram_range; here we are telling to use unigram and bigrams and choose the one which is optimal.\n",
    "\n",
    "from sklearn.model_selection import GridSearchCV\n",
    "parameters = {'vect__ngram_range': [(1, 1), (1, 2)], 'tfidf__use_idf': (True, False), 'clf__alpha': (1e-2, 1e-3)}\n",
    "# Next, we create an instance of the grid search by passing the classifier, parameters \n",
    "# and n_jobs=-1 which tells to use multiple cores from user machine.\n",
    "\n",
    "gs_clf = GridSearchCV(text_clf, parameters, n_jobs=-1)\n",
    "gs_clf = gs_clf.fit(train['Text'].values.astype('U'), train['Label'].values.astype('U'))\n",
    "\n",
    "# To see the best mean score and the params, run the following code\n",
    "\n",
    "gs_clf.best_score_\n",
    "gs_clf.best_params_\n",
    "predicted = gs_clf.predict(test['Text'].values.astype('U'))\n",
    "np.mean(predicted == test.Label)"
   ]
  },
  {
   "cell_type": "code",
   "execution_count": 9,
   "metadata": {
    "scrolled": true
   },
   "outputs": [
    {
     "name": "stdout",
     "output_type": "stream",
     "text": [
      "accuracy 0.8486486486486486\n",
      "               precision    recall  f1-score   support\n",
      "\n",
      "   bangladesh       0.85      0.79      0.82       185\n",
      "      opinion       0.87      0.85      0.86       206\n",
      "      economy       0.92      0.88      0.90       175\n",
      "       sports       0.86      0.92      0.89       174\n",
      "entertainment       0.85      0.78      0.81       179\n",
      "   technology       0.88      0.77      0.82       194\n",
      "international       0.63      0.87      0.73       183\n",
      "   life-style       0.97      0.95      0.96       180\n",
      "    education       0.89      0.84      0.86       189\n",
      "\n",
      "    micro avg       0.85      0.85      0.85      1665\n",
      "    macro avg       0.86      0.85      0.85      1665\n",
      " weighted avg       0.86      0.85      0.85      1665\n",
      "\n",
      "Wall time: 99.6 ms\n"
     ]
    }
   ],
   "source": [
    "%%time\n",
    "\n",
    "print('accuracy %s' % accuracy_score(predicted, test.Label))\n",
    "print(classification_report(test.Label, predicted,target_names=tags))"
   ]
  },
  {
   "cell_type": "code",
   "execution_count": 11,
   "metadata": {},
   "outputs": [
    {
     "data": {
      "text/plain": [
       "0.8174174174174175"
      ]
     },
     "execution_count": 11,
     "metadata": {},
     "output_type": "execute_result"
    }
   ],
   "source": [
    "# Training Support Vector Machines - SVM and calculating its performance\n",
    "\n",
    "from sklearn.linear_model import SGDClassifier\n",
    "text_clf_svm = Pipeline([('vect', CountVectorizer()), ('tfidf', TfidfTransformer()),\n",
    "                         ('clf-svm', SGDClassifier(loss='hinge', penalty='l2',alpha=1e-3, max_iter=15, random_state=42))])\n",
    "\n",
    "text_clf_svm = text_clf_svm.fit(train['Text'].values.astype('U'), train['Label'].values.astype('U'))\n",
    "predicted_svm = text_clf_svm.predict(test['Text'].values.astype('U'))\n",
    "np.mean(predicted_svm == test['Label'].values.astype('U'))"
   ]
  },
  {
   "cell_type": "code",
   "execution_count": 13,
   "metadata": {},
   "outputs": [
    {
     "data": {
      "text/plain": [
       "0.8306306306306306"
      ]
     },
     "execution_count": 13,
     "metadata": {},
     "output_type": "execute_result"
    }
   ],
   "source": [
    "# Similarly doing grid search for SVM\n",
    "from sklearn.model_selection import GridSearchCV\n",
    "parameters_svm = {'vect__ngram_range': [(1, 1), (1, 2)], 'tfidf__use_idf': (True, False),'clf-svm__alpha': (1e-2, 1e-3)}\n",
    "\n",
    "gs_clf_svm = GridSearchCV(text_clf_svm, parameters_svm, n_jobs=-1)\n",
    "gs_clf_svm = gs_clf_svm.fit(train['Text'].values.astype('U'), train['Label'].values.astype('U'))\n",
    "\n",
    "\n",
    "gs_clf_svm.best_score_\n",
    "gs_clf_svm.best_params_\n",
    "predicted_svm = gs_clf_svm.predict(test['Text'].values.astype('U'))\n",
    "np.mean(predicted_svm == test['Label'].values.astype('U'))"
   ]
  },
  {
   "cell_type": "code",
   "execution_count": 14,
   "metadata": {
    "scrolled": false
   },
   "outputs": [
    {
     "name": "stdout",
     "output_type": "stream",
     "text": [
      "accuracy 0.8306306306306306\n",
      "               precision    recall  f1-score   support\n",
      "\n",
      "   bangladesh       0.80      0.76      0.78       185\n",
      "      opinion       0.88      0.84      0.86       206\n",
      "      economy       0.81      0.87      0.84       175\n",
      "       sports       0.82      0.94      0.88       174\n",
      "entertainment       0.85      0.74      0.79       179\n",
      "   technology       0.85      0.80      0.83       194\n",
      "international       0.76      0.70      0.73       183\n",
      "   life-style       0.86      0.97      0.91       180\n",
      "    education       0.85      0.86      0.85       189\n",
      "\n",
      "    micro avg       0.83      0.83      0.83      1665\n",
      "    macro avg       0.83      0.83      0.83      1665\n",
      " weighted avg       0.83      0.83      0.83      1665\n",
      "\n",
      "Wall time: 190 ms\n",
      "Parser   : 224 ms\n"
     ]
    }
   ],
   "source": [
    "%%time\n",
    "from sklearn.metrics import classification_report\n",
    "\n",
    "print('accuracy %s' % accuracy_score(predicted_svm, test.Label))\n",
    "print(classification_report(test.Label, predicted_svm,target_names=tags))"
   ]
  },
  {
   "cell_type": "code",
   "execution_count": 9,
   "metadata": {},
   "outputs": [
    {
     "data": {
      "text/plain": [
       "0.8786786786786787"
      ]
     },
     "execution_count": 9,
     "metadata": {},
     "output_type": "execute_result"
    }
   ],
   "source": [
    "from sklearn.model_selection import GridSearchCV\n",
    "from sklearn.pipeline import Pipeline\n",
    "from sklearn.svm import LinearSVC\n",
    "text_clf_lsvc = Pipeline([('vect', CountVectorizer()),\n",
    "                ('tfidf', TfidfTransformer()),\n",
    "                ('clf-lsvc', LinearSVC())])\n",
    "text_clf_lsvc = text_clf_lsvc.fit(train['Text'].values.astype('U'), train['Label'].values.astype('U'))\n",
    "\n",
    "parameters_lsvc = {'vect__ngram_range': [(1, 1), (1, 2)], 'tfidf__use_idf': (True, False)}\n",
    "\n",
    "gs_clf_lsvc= GridSearchCV(text_clf_lsvc, parameters_lsvc, n_jobs=-1)\n",
    "gs_clf_lsvc = gs_clf_lsvc.fit(train['Text'].values.astype('U'), train['Label'].values.astype('U'))\n",
    "\n",
    "\n",
    "gs_clf_lsvc.best_score_\n",
    "gs_clf_lsvc.best_params_\n",
    "predicted_lsvc = gs_clf_lsvc.predict(test['Text'].values.astype('U'))\n",
    "np.mean(predicted_lsvc == test['Label'].values.astype('U'))"
   ]
  },
  {
   "cell_type": "code",
   "execution_count": 11,
   "metadata": {},
   "outputs": [
    {
     "name": "stdout",
     "output_type": "stream",
     "text": [
      "accuracy 0.8786786786786787\n",
      "               precision    recall  f1-score   support\n",
      "\n",
      "   bangladesh       0.83      0.83      0.83       185\n",
      "      opinion       0.92      0.88      0.90       206\n",
      "      economy       0.91      0.90      0.90       175\n",
      "       sports       0.88      0.94      0.91       174\n",
      "entertainment       0.86      0.83      0.84       179\n",
      "   technology       0.88      0.86      0.87       194\n",
      "international       0.81      0.83      0.82       183\n",
      "   life-style       0.96      0.97      0.96       180\n",
      "    education       0.85      0.87      0.86       189\n",
      "\n",
      "    micro avg       0.88      0.88      0.88      1665\n",
      "    macro avg       0.88      0.88      0.88      1665\n",
      " weighted avg       0.88      0.88      0.88      1665\n",
      "\n",
      "Wall time: 251 ms\n"
     ]
    }
   ],
   "source": [
    "%%time\n",
    "tags = data.Label.unique()\n",
    "from sklearn.metrics import classification_report\n",
    "\n",
    "print('accuracy %s' % accuracy_score(predicted_lsvc, test.Label))\n",
    "print(classification_report(test.Label, predicted_lsvc,target_names=tags))"
   ]
  },
  {
   "cell_type": "code",
   "execution_count": null,
   "metadata": {},
   "outputs": [],
   "source": []
  }
 ],
 "metadata": {
  "kernelspec": {
   "display_name": "Python 3",
   "language": "python",
   "name": "python3"
  },
  "language_info": {
   "codemirror_mode": {
    "name": "ipython",
    "version": 3
   },
   "file_extension": ".py",
   "mimetype": "text/x-python",
   "name": "python",
   "nbconvert_exporter": "python",
   "pygments_lexer": "ipython3",
   "version": "3.7.3"
  }
 },
 "nbformat": 4,
 "nbformat_minor": 2
}

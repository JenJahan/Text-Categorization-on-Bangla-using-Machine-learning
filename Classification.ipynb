{
 "cells": [
  {
   "cell_type": "code",
   "execution_count": 1,
   "metadata": {},
   "outputs": [],
   "source": [
    "import numpy as np\n",
    "import pandas as pd\n",
    "import matplotlib.pyplot as plt\n",
    "\n",
    "# import warnings filter\n",
    "from warnings import simplefilter\n",
    "# ignore all future warnings\n",
    "simplefilter(action='ignore', category=FutureWarning)\n",
    "\n",
    "import logging\n",
    "from numpy import random\n",
    "#import gensim\n",
    "from sklearn.feature_extraction.text import CountVectorizer, TfidfVectorizer\n",
    "from sklearn.metrics import accuracy_score, confusion_matrix\n",
    "import matplotlib.pyplot as plt\n",
    "from bs4 import BeautifulSoup\n",
    "\n",
    "%matplotlib inline"
   ]
  },
  {
   "cell_type": "code",
   "execution_count": 2,
   "metadata": {},
   "outputs": [],
   "source": [
    "data = pd.read_csv(\"preProcessedData.csv\")"
   ]
  },
  {
   "cell_type": "code",
   "execution_count": 5,
   "metadata": {},
   "outputs": [],
   "source": [
    "# fraction of rows\n",
    "# here you get 75% of the rows\n",
    "train = data.sample(frac=0.75, random_state=99)\n",
    "test = data.loc[~data.index.isin(train.index), :]"
   ]
  },
  {
   "cell_type": "code",
   "execution_count": 6,
   "metadata": {},
   "outputs": [
    {
     "data": {
      "text/plain": [
       "(4995, 9743)"
      ]
     },
     "execution_count": 6,
     "metadata": {},
     "output_type": "execute_result"
    }
   ],
   "source": [
    "# Extracting features from text files\n",
    "from sklearn.feature_extraction.text import CountVectorizer\n",
    "count_vect = CountVectorizer()\n",
    "X_train_counts = count_vect.fit_transform(train['Text'].values.astype('U'))\n",
    "X_train_counts.shape"
   ]
  },
  {
   "cell_type": "code",
   "execution_count": 7,
   "metadata": {},
   "outputs": [
    {
     "data": {
      "text/plain": [
       "(4995, 9743)"
      ]
     },
     "execution_count": 7,
     "metadata": {},
     "output_type": "execute_result"
    }
   ],
   "source": [
    "# TF-IDF\n",
    "from sklearn.feature_extraction.text import TfidfTransformer\n",
    "tfidf_transformer = TfidfTransformer()\n",
    "X_train_tfidf = tfidf_transformer.fit_transform(X_train_counts)\n",
    "X_train_tfidf.shape"
   ]
  },
  {
   "cell_type": "code",
   "execution_count": 8,
   "metadata": {},
   "outputs": [],
   "source": [
    "# Machine Learning\n",
    "# Training Naive Bayes (NB) classifier on training data.\n",
    "from sklearn.naive_bayes import MultinomialNB\n",
    "clf = MultinomialNB().fit(X_train_tfidf, train.Label)"
   ]
  },
  {
   "cell_type": "code",
   "execution_count": 9,
   "metadata": {},
   "outputs": [],
   "source": [
    "# Building a pipeline: We can write less code and do all of the above, by building a pipeline as follows:\n",
    "# The names ‘vect’ , ‘tfidf’ and ‘clf’ are arbitrary but will be used later.\n",
    "# We will be using the 'text_clf' going forward.\n",
    "from sklearn.pipeline import Pipeline\n",
    "\n",
    "text_clf = Pipeline([('vect', CountVectorizer()), ('tfidf', TfidfTransformer()), ('clf', MultinomialNB())])\n",
    "\n",
    "text_clf = text_clf.fit(train['Text'].values.astype('U'), train.Label)"
   ]
  },
  {
   "cell_type": "code",
   "execution_count": 10,
   "metadata": {},
   "outputs": [
    {
     "data": {
      "text/plain": [
       "0.7387387387387387"
      ]
     },
     "execution_count": 10,
     "metadata": {},
     "output_type": "execute_result"
    }
   ],
   "source": [
    "# Performance of NB Classifier\n",
    "predicted = text_clf.predict(test['Text'].values.astype('U'))\n",
    "np.mean(predicted == test.Label)"
   ]
  },
  {
   "cell_type": "code",
   "execution_count": 12,
   "metadata": {},
   "outputs": [
    {
     "name": "stdout",
     "output_type": "stream",
     "text": [
      "accuracy 0.7387387387387387\n",
      "               precision    recall  f1-score   support\n",
      "\n",
      "   bangladesh       0.82      0.71      0.76       185\n",
      "      opinion       0.89      0.66      0.76       206\n",
      "      economy       0.88      0.61      0.72       175\n",
      "       sports       0.83      0.87      0.85       174\n",
      "entertainment       0.84      0.60      0.70       179\n",
      "   technology       0.88      0.66      0.76       194\n",
      "international       0.39      0.92      0.55       183\n",
      "   life-style       0.94      0.91      0.92       180\n",
      "    education       0.84      0.71      0.77       189\n",
      "\n",
      "    micro avg       0.74      0.74      0.74      1665\n",
      "    macro avg       0.81      0.74      0.75      1665\n",
      " weighted avg       0.81      0.74      0.75      1665\n",
      "\n",
      "Wall time: 16.9 ms\n"
     ]
    }
   ],
   "source": [
    "%%time\n",
    "tags = data.Label.unique()\n",
    "from sklearn.metrics import classification_report\n",
    "\n",
    "print('accuracy %s' % accuracy_score(predicted, test.Label))\n",
    "print(classification_report(test.Label, predicted,target_names=tags))"
   ]
  },
  {
   "cell_type": "code",
   "execution_count": 13,
   "metadata": {},
   "outputs": [
    {
     "data": {
      "text/plain": [
       "0.8174174174174175"
      ]
     },
     "execution_count": 13,
     "metadata": {},
     "output_type": "execute_result"
    }
   ],
   "source": [
    "# Training Support Vector Machines - SVM and calculating its performance\n",
    "\n",
    "from sklearn.linear_model import SGDClassifier\n",
    "text_clf_svm = Pipeline([('vect', CountVectorizer()), ('tfidf', TfidfTransformer()),\n",
    "                         ('clf-svm', SGDClassifier(loss='hinge', penalty='l2',alpha=1e-3, max_iter=15, random_state=42))])\n",
    "\n",
    "text_clf_svm = text_clf_svm.fit(train['Text'].values.astype('U'), train['Label'].values.astype('U'))\n",
    "predicted_svm = text_clf_svm.predict(test['Text'].values.astype('U'))\n",
    "np.mean(predicted_svm == test['Label'].values.astype('U'))"
   ]
  },
  {
   "cell_type": "code",
   "execution_count": 14,
   "metadata": {},
   "outputs": [
    {
     "name": "stdout",
     "output_type": "stream",
     "text": [
      "accuracy 0.8174174174174175\n",
      "               precision    recall  f1-score   support\n",
      "\n",
      "   bangladesh       0.80      0.76      0.78       185\n",
      "      opinion       0.88      0.83      0.85       206\n",
      "      economy       0.81      0.84      0.82       175\n",
      "       sports       0.83      0.91      0.87       174\n",
      "entertainment       0.78      0.73      0.76       179\n",
      "   technology       0.82      0.82      0.82       194\n",
      "international       0.76      0.69      0.72       183\n",
      "   life-style       0.86      0.94      0.90       180\n",
      "    education       0.81      0.84      0.82       189\n",
      "\n",
      "    micro avg       0.82      0.82      0.82      1665\n",
      "    macro avg       0.82      0.82      0.82      1665\n",
      " weighted avg       0.82      0.82      0.82      1665\n",
      "\n",
      "Wall time: 14.4 ms\n"
     ]
    }
   ],
   "source": [
    "%%time\n",
    "print('accuracy %s' % accuracy_score(predicted_svm, test.Label))\n",
    "print(classification_report(test.Label, predicted_svm,target_names=tags))"
   ]
  },
  {
   "cell_type": "code",
   "execution_count": 15,
   "metadata": {},
   "outputs": [
    {
     "data": {
      "text/plain": [
       "0.5021021021021022"
      ]
     },
     "execution_count": 15,
     "metadata": {},
     "output_type": "execute_result"
    }
   ],
   "source": [
    "from sklearn.tree import DecisionTreeClassifier # Import Decision Tree Classifier\n",
    "# Create Decision Tree classifer object\n",
    "text_clf_dt = Pipeline([('vect', CountVectorizer()), ('tfidf', TfidfTransformer()),\n",
    "                         ('clf-dt', DecisionTreeClassifier(criterion='gini',splitter='best',\n",
    "                                                           max_depth=20))])\n",
    "\n",
    "# Train Decision Tree Classifer\n",
    "text_clf_dt = text_clf_dt.fit(train['Text'].values.astype('U'), train['Label'].values.astype('U'))\n",
    "\n",
    "#Predict the response for test dataset\n",
    "predicted_dt = text_clf_dt.predict(test['Text'].values.astype('U'))\n",
    "np.mean(predicted_dt == test['Label'].values.astype('U'))"
   ]
  },
  {
   "cell_type": "code",
   "execution_count": 16,
   "metadata": {},
   "outputs": [
    {
     "name": "stdout",
     "output_type": "stream",
     "text": [
      "accuracy 0.5021021021021022\n",
      "               precision    recall  f1-score   support\n",
      "\n",
      "   bangladesh       0.51      0.44      0.47       185\n",
      "      opinion       0.51      0.44      0.48       206\n",
      "      economy       0.61      0.55      0.58       175\n",
      "       sports       0.32      0.70      0.44       174\n",
      "entertainment       0.43      0.40      0.42       179\n",
      "   technology       0.63      0.38      0.48       194\n",
      "international       0.43      0.36      0.39       183\n",
      "   life-style       0.70      0.74      0.72       180\n",
      "    education       0.60      0.53      0.56       189\n",
      "\n",
      "    micro avg       0.50      0.50      0.50      1665\n",
      "    macro avg       0.53      0.51      0.50      1665\n",
      " weighted avg       0.53      0.50      0.50      1665\n",
      "\n",
      "Wall time: 13.9 ms\n"
     ]
    }
   ],
   "source": [
    "%%time\n",
    "from sklearn.metrics import classification_report\n",
    "\n",
    "print('accuracy %s' % accuracy_score(predicted_dt, test.Label))\n",
    "print(classification_report(test.Label, predicted_dt,target_names=tags))"
   ]
  },
  {
   "cell_type": "code",
   "execution_count": 17,
   "metadata": {},
   "outputs": [
    {
     "data": {
      "text/plain": [
       "0.8252252252252252"
      ]
     },
     "execution_count": 17,
     "metadata": {},
     "output_type": "execute_result"
    }
   ],
   "source": [
    "from sklearn.linear_model import LogisticRegression\n",
    "\n",
    "text_clf_lr = Pipeline([('vect', CountVectorizer()),\n",
    "                ('tfidf', TfidfTransformer()),\n",
    "                ('clf-lr', LogisticRegression(n_jobs=1, C=1e5)),\n",
    "               ])\n",
    "text_clf_lr = text_clf_lr.fit(train['Text'].values.astype('U'), train['Label'].values.astype('U'))\n",
    "\n",
    "#Predict the response for test dataset\n",
    "predicted_lr = text_clf_lr.predict(test['Text'].values.astype('U'))\n",
    "np.mean(predicted_lr == test['Label'].values.astype('U'))"
   ]
  },
  {
   "cell_type": "code",
   "execution_count": 18,
   "metadata": {},
   "outputs": [
    {
     "name": "stdout",
     "output_type": "stream",
     "text": [
      "accuracy 0.8252252252252252\n",
      "               precision    recall  f1-score   support\n",
      "\n",
      "   bangladesh       0.74      0.79      0.76       185\n",
      "      opinion       0.84      0.79      0.81       206\n",
      "      economy       0.81      0.85      0.83       175\n",
      "       sports       0.86      0.86      0.86       174\n",
      "entertainment       0.76      0.80      0.78       179\n",
      "   technology       0.89      0.81      0.85       194\n",
      "international       0.77      0.78      0.77       183\n",
      "   life-style       0.93      0.95      0.94       180\n",
      "    education       0.84      0.81      0.83       189\n",
      "\n",
      "    micro avg       0.83      0.83      0.83      1665\n",
      "    macro avg       0.83      0.83      0.83      1665\n",
      " weighted avg       0.83      0.83      0.83      1665\n",
      "\n",
      "Wall time: 16.3 ms\n"
     ]
    }
   ],
   "source": [
    "%%time\n",
    "from sklearn.metrics import classification_report\n",
    "\n",
    "print('accuracy %s' % accuracy_score(predicted_lr, test.Label))\n",
    "print(classification_report(test.Label, predicted_lr,target_names=tags))"
   ]
  },
  {
   "cell_type": "code",
   "execution_count": 33,
   "metadata": {},
   "outputs": [
    {
     "data": {
      "text/plain": [
       "0.7273273273273273"
      ]
     },
     "execution_count": 33,
     "metadata": {},
     "output_type": "execute_result"
    }
   ],
   "source": [
    "from sklearn.neighbors import KNeighborsClassifier\n",
    "\n",
    "text_clf_knn = Pipeline([('vect', CountVectorizer()),\n",
    "                ('tfidf', TfidfTransformer()),\n",
    "                ('clf-knn', KNeighborsClassifier(n_neighbors=6))])\n",
    "text_clf_knn = text_clf_knn.fit(train['Text'].values.astype('U'), train['Label'].values.astype('U'))\n",
    "\n",
    "#Predict the response for test dataset\n",
    "predicted_knn = text_clf_knn.predict(test['Text'].values.astype('U'))\n",
    "np.mean(predicted_knn == test['Label'].values.astype('U'))"
   ]
  },
  {
   "cell_type": "code",
   "execution_count": 34,
   "metadata": {},
   "outputs": [
    {
     "name": "stdout",
     "output_type": "stream",
     "text": [
      "accuracy 0.7273273273273273\n",
      "               precision    recall  f1-score   support\n",
      "\n",
      "   bangladesh       0.65      0.70      0.67       185\n",
      "      opinion       0.73      0.75      0.74       206\n",
      "      economy       0.74      0.80      0.77       175\n",
      "       sports       0.76      0.80      0.78       174\n",
      "entertainment       0.70      0.59      0.64       179\n",
      "   technology       0.76      0.77      0.77       194\n",
      "international       0.52      0.61      0.56       183\n",
      "   life-style       0.86      0.82      0.84       180\n",
      "    education       0.88      0.71      0.79       189\n",
      "\n",
      "    micro avg       0.73      0.73      0.73      1665\n",
      "    macro avg       0.73      0.73      0.73      1665\n",
      " weighted avg       0.73      0.73      0.73      1665\n",
      "\n",
      "Wall time: 14.4 ms\n"
     ]
    }
   ],
   "source": [
    "%%time\n",
    "from sklearn.metrics import classification_report\n",
    "\n",
    "print('accuracy %s' % accuracy_score(predicted_knn, test.Label))\n",
    "print(classification_report(test.Label, predicted_knn,target_names=tags))"
   ]
  }
 ],
 "metadata": {
  "kernelspec": {
   "display_name": "Python 3",
   "language": "python",
   "name": "python3"
  },
  "language_info": {
   "codemirror_mode": {
    "name": "ipython",
    "version": 3
   },
   "file_extension": ".py",
   "mimetype": "text/x-python",
   "name": "python",
   "nbconvert_exporter": "python",
   "pygments_lexer": "ipython3",
   "version": "3.7.1"
  }
 },
 "nbformat": 4,
 "nbformat_minor": 2
}

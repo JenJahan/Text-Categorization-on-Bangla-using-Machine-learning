{
 "cells": [
  {
   "cell_type": "code",
   "execution_count": 27,
   "metadata": {},
   "outputs": [
    {
     "name": "stdout",
     "output_type": "stream",
     "text": [
      "Unidentified content: বিশ্বের কয়েকটি দেশে মার্কিন প্রযুক্তিপ্রতিষ্ঠান অ্যাপলের তৈরি আইফোন  বিক্রি শুরু হয়েছে কার্যকারিতার বিবেচনায় অনেক প্রযুক্তি বিশ্লেষক আইফোন  কে ইতিবাচক প্রতিক্রয়া দিয়েছেন কিন্তু আইফোন  এর কতটুকু টেকসই তা পরীক্ষা করে দেখেছেন কয়েকজন পর্যালোচনাকারী কেউ কেউ ফোন ওপর থেকে ফেল ড্রপ টেস্ট করেছেন কেউ একে পানিতে ডুবিয়ে পানিরোধী কিনা তা দেখেছেন কেউ কেউ নতুন আইফোন আগুনে পুড়িয়ে এর স্থায়িত্ব পরীক্ষা করেছেন  ইউটিউবে আইফোন  নিয়ে এরকম বেশ কয়েকটি স্থায়িত্ব পরীক্ষার ভিডিও রয়েছে ইউটিউবে পর্যালোচনাকারী জেরি রিগ এভরিথিং নামের একটি অ্যাকাউন্ট থেকে বিভিন্ন প্রযুক্তিপণ্য পরীক্ষা করে ভিডিও পোস্ট করা হয় সম্প্রতি আইফোন  এর মেটাল গ্লাস ও সহজে বেকে যাওয়া ঠেকানোর সুরক্ষা প্রযুক্তি পরীক্ষা করে দেখা হয় এর আগে আইফোন  এর পর্যালোচনাকারীরা অভিযোগ করেছিলেন সামান্য চাপে আইফোন  বেঁকে যায় ওই ঘটনাটি বেন্ডগেট কেলেঙ্কারি হিসেবে পরিচিতি পায়   ভিডিওতে দেখা যায় ফোনের কাঠিন্য পরীক্ষার সময় ধারালো উপাদান ব্যবহারে ফোনটির গ্লাস ও মেটালে দাগ পড়ে জেরি রিগ এভরিথিং অ্যাকাউন্ট থেকে বলা হয় আইফোন  হয়তো চাবির মতো উপাদানে ঘষায় সুরক্ষিত থাকবে কিন্তু পরীক্ষায় রেজর ব্লেডের ঘষায় ফোনের রঙ চটে যেতে দেখা গেছে ফোনের অ্যালুমিনিয়াম কভার ও ফোনের এক্সর্টানাল ক্যামেরা লেন্স স্যাফায়ার দিয়ে তৈরি বলে দাবি করে অ্যাপল কিন্তু স্থায়িত্ব পরীক্ষায় এগুলো উতরে যেতে পারেনি ফোনটি বেন্ড টেস্ট ও এর গ্লাস আগুনের সামনে রাখার সময় টিকে গেছে বলে দাবি করা হয়েছে ওই ভিডিওতে তাই জেরি রিগ এভরিথিং অ্যাকাউন্টে আইফোন  কে ভালোভাবে নির্মাণ করা ফোনের মর্যাদা দেওয়া হয়েছে  অ্যাপলের বিপণন বিভাগের জেষ্ঠ্য ভাইস প্রেসিডেন্ট ফিলিপ শিলার বলেছেন আইফোন  এ  প্লাস নতুন প্রজন্মের আইফোন আইফোনের যা আমরা পছন্দ করি তার সবকিছুই এতে উন্নত করা হয়েছে এতে নতুন গ্লাস ও অ্যালুমিনিয়াম নকশা রেটিনা এইচডি ডিসপ্লে ও এ  বায়োনিক চিপসেট ব্যবহৃত হয়েছে এ  সবচেয়ে উন্নত চিপসেট এতে উন্নত ক্যামেরা আছে যাতে পোর্টেট মোড ও পোর্টেট লাইটিং সুবিধা আছে এতে সর্বোচ্চ মানের ভিডিও করা যাবে এতে তারহীন চার্জার ও অগমেন্টেড রিয়্যালিটির সুবিধা যুক্ত হয়েছে  গত  সেপ্টেম্বর যুক্তরাষ্ট্রের ক্যালিফোর্নিয়ায় আইফোন  ও  প্লাসের ঘোষণা দেয় প্রতিষ্ঠানটি আইফোন  ও  প্লাস এর দাম শুরু  মার্কিন ডলার ও  মার্কিন ডলার থেকে তথ্যসূত্র আইবিটাইমস\n",
      "['technology']\n"
     ]
    }
   ],
   "source": [
    "import numpy as np\n",
    "import pandas as pd\n",
    "\n",
    "from warnings import simplefilter\n",
    "# ignore all future warnings\n",
    "simplefilter(action='ignore', category=FutureWarning)\n",
    "\n",
    "from numpy import random\n",
    "from sklearn.feature_extraction.text import CountVectorizer\n",
    "from sklearn.feature_extraction.text import TfidfTransformer\n",
    "\n",
    "%matplotlib inline\n",
    "\n",
    "from sklearn.svm import LinearSVC\n",
    "\n",
    "data = pd.read_csv(\"preProcessedData.csv\")\n",
    "\n",
    "count_vect = CountVectorizer()\n",
    "text_counts = count_vect.fit_transform(data['Text'])\n",
    "tfidf_transformer = TfidfTransformer()\n",
    "text_tfidf = tfidf_transformer.fit_transform(text_counts)\n",
    "\n",
    "clf = LinearSVC().fit(text_tfidf,  data['Label'])\n",
    "\n",
    "content = input(\"Unidentified content: \")\n",
    "print(clf.predict(count_vect.transform([content])))"
   ]
  },
  {
   "cell_type": "code",
   "execution_count": null,
   "metadata": {},
   "outputs": [],
   "source": []
  }
 ],
 "metadata": {
  "kernelspec": {
   "display_name": "Python 3",
   "language": "python",
   "name": "python3"
  },
  "language_info": {
   "codemirror_mode": {
    "name": "ipython",
    "version": 3
   },
   "file_extension": ".py",
   "mimetype": "text/x-python",
   "name": "python",
   "nbconvert_exporter": "python",
   "pygments_lexer": "ipython3",
   "version": "3.7.3"
  }
 },
 "nbformat": 4,
 "nbformat_minor": 2
}

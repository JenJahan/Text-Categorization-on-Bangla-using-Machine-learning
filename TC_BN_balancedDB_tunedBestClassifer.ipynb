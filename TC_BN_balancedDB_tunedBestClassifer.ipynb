{
 "cells": [
  {
   "cell_type": "code",
   "execution_count": 1,
   "metadata": {},
   "outputs": [],
   "source": [
    "import numpy as np\n",
    "import pandas as pd\n",
    "import matplotlib.pyplot as plt\n",
    "\n",
    "# import warnings filter\n",
    "from warnings import simplefilter\n",
    "# ignore all future warnings\n",
    "simplefilter(action='ignore', category=FutureWarning)\n",
    "\n",
    "import logging\n",
    "from numpy import random\n",
    "#import gensim\n",
    "from sklearn.feature_extraction.text import CountVectorizer, TfidfVectorizer\n",
    "from sklearn.metrics import accuracy_score, confusion_matrix\n",
    "import matplotlib.pyplot as plt\n",
    "from bs4 import BeautifulSoup\n",
    "\n",
    "%matplotlib inline"
   ]
  },
  {
   "cell_type": "code",
   "execution_count": 2,
   "metadata": {},
   "outputs": [],
   "source": [
    "data = pd.read_csv(\"preProcessedData.csv\")\n",
    "# fraction of rows\n",
    "# here you get 75% of the rows\n",
    "train = data.sample(frac=0.75, random_state=99)\n",
    "test = data.loc[~data.index.isin(train.index), :]"
   ]
  },
  {
   "cell_type": "code",
   "execution_count": 3,
   "metadata": {},
   "outputs": [
    {
     "data": {
      "text/plain": [
       "(4995, 9743)"
      ]
     },
     "execution_count": 3,
     "metadata": {},
     "output_type": "execute_result"
    }
   ],
   "source": [
    "# Extracting features from text files\n",
    "from sklearn.feature_extraction.text import CountVectorizer\n",
    "count_vect = CountVectorizer()\n",
    "X_train_counts = count_vect.fit_transform(train['Text'].values.astype('U'))\n",
    "\n",
    "# TF-IDF\n",
    "from sklearn.feature_extraction.text import TfidfTransformer\n",
    "tfidf_transformer = TfidfTransformer()\n",
    "X_train_tfidf = tfidf_transformer.fit_transform(X_train_counts)\n",
    "\n",
    "X_train_tfidf.shape"
   ]
  },
  {
   "cell_type": "code",
   "execution_count": 4,
   "metadata": {},
   "outputs": [
    {
     "data": {
      "text/plain": [
       "0.8492492492492493"
      ]
     },
     "execution_count": 4,
     "metadata": {},
     "output_type": "execute_result"
    }
   ],
   "source": [
    "from sklearn.pipeline import Pipeline\n",
    "from sklearn.svm import LinearSVC\n",
    "text_clf_lsvc = Pipeline([('vect', CountVectorizer()),\n",
    "                ('tfidf', TfidfTransformer()),\n",
    "                ('clf-lsvc', LinearSVC())])\n",
    "text_clf_lsvc = text_clf_lsvc.fit(train['Text'].values.astype('U'), train['Label'].values.astype('U'))\n",
    "\n",
    "#Predict the response for test dataset\n",
    "predicted_lsvc = text_clf_lsvc.predict(test['Text'].values.astype('U'))\n",
    "np.mean(predicted_lsvc == test['Label'].values.astype('U'))"
   ]
  },
  {
   "cell_type": "code",
   "execution_count": 5,
   "metadata": {},
   "outputs": [
    {
     "name": "stdout",
     "output_type": "stream",
     "text": [
      "accuracy 0.8492492492492493\n",
      "               precision    recall  f1-score   support\n",
      "\n",
      "   bangladesh       0.81      0.82      0.81       185\n",
      "      opinion       0.87      0.82      0.84       206\n",
      "      economy       0.85      0.87      0.86       175\n",
      "       sports       0.87      0.88      0.87       174\n",
      "entertainment       0.78      0.82      0.80       179\n",
      "   technology       0.88      0.85      0.87       194\n",
      "international       0.81      0.80      0.81       183\n",
      "   life-style       0.93      0.96      0.95       180\n",
      "    education       0.86      0.83      0.84       189\n",
      "\n",
      "     accuracy                           0.85      1665\n",
      "    macro avg       0.85      0.85      0.85      1665\n",
      " weighted avg       0.85      0.85      0.85      1665\n",
      "\n",
      "Wall time: 117 ms\n"
     ]
    }
   ],
   "source": [
    "%%time\n",
    "tags = data.Label.unique()\n",
    "from sklearn.metrics import classification_report\n",
    "\n",
    "print('accuracy %s' % accuracy_score(predicted_lsvc, test.Label))\n",
    "print(classification_report(test.Label, predicted_lsvc,target_names=tags))"
   ]
  },
  {
   "cell_type": "code",
   "execution_count": 7,
   "metadata": {},
   "outputs": [
    {
     "data": {
      "text/plain": [
       "0.8786786786786787"
      ]
     },
     "execution_count": 7,
     "metadata": {},
     "output_type": "execute_result"
    }
   ],
   "source": [
    "from sklearn.model_selection import GridSearchCV\n",
    "\n",
    "parameters_lsvc = {'vect__ngram_range': [(1, 1), (1, 2)], 'tfidf__use_idf': (True, False)}\n",
    "\n",
    "gs_clf_lsvc= GridSearchCV(text_clf_lsvc, parameters_lsvc, n_jobs=-1)\n",
    "gs_clf_lsvc = gs_clf_lsvc.fit(train['Text'].values.astype('U'), train['Label'].values.astype('U'))\n",
    "\n",
    "\n",
    "gs_clf_lsvc.best_score_\n",
    "gs_clf_lsvc.best_params_\n",
    "predicted_lsvc = gs_clf_lsvc.predict(test['Text'].values.astype('U'))\n",
    "np.mean(predicted_lsvc == test['Label'].values.astype('U'))"
   ]
  },
  {
   "cell_type": "code",
   "execution_count": 8,
   "metadata": {},
   "outputs": [
    {
     "name": "stdout",
     "output_type": "stream",
     "text": [
      "accuracy 0.8786786786786787\n",
      "               precision    recall  f1-score   support\n",
      "\n",
      "   bangladesh       0.83      0.83      0.83       185\n",
      "      opinion       0.92      0.88      0.90       206\n",
      "      economy       0.91      0.90      0.90       175\n",
      "       sports       0.88      0.94      0.91       174\n",
      "entertainment       0.86      0.83      0.84       179\n",
      "   technology       0.88      0.86      0.87       194\n",
      "international       0.81      0.83      0.82       183\n",
      "   life-style       0.96      0.97      0.96       180\n",
      "    education       0.85      0.87      0.86       189\n",
      "\n",
      "     accuracy                           0.88      1665\n",
      "    macro avg       0.88      0.88      0.88      1665\n",
      " weighted avg       0.88      0.88      0.88      1665\n",
      "\n",
      "Wall time: 145 ms\n"
     ]
    }
   ],
   "source": [
    "%%time\n",
    "tags = data.Label.unique()\n",
    "from sklearn.metrics import classification_report\n",
    "\n",
    "print('accuracy %s' % accuracy_score(predicted_lsvc, test.Label))\n",
    "print(classification_report(test.Label, predicted_lsvc,target_names=tags))"
   ]
  },
  {
   "cell_type": "code",
   "execution_count": 21,
   "metadata": {
    "scrolled": true
   },
   "outputs": [
    {
     "data": {
      "text/plain": [
       "array([[154,   1,   4,   3,   5,   5,   9,   2,   2],\n",
       "       [  7, 182,   2,   1,   5,   1,   4,   0,   4],\n",
       "       [  1,   2, 157,   1,   0,   4,   1,   0,   9],\n",
       "       [  3,   0,   0, 164,   5,   1,   0,   0,   1],\n",
       "       [  3,   2,   0,   4, 149,   3,  12,   1,   5],\n",
       "       [  2,   1,   2,   6,   1, 166,  10,   1,   5],\n",
       "       [ 12,   4,   4,   1,   3,   3, 152,   2,   2],\n",
       "       [  1,   0,   0,   3,   2,   0,   0, 174,   0],\n",
       "       [  2,   6,   3,   3,   4,   5,   0,   1, 165]], dtype=int64)"
      ]
     },
     "execution_count": 21,
     "metadata": {},
     "output_type": "execute_result"
    }
   ],
   "source": [
    "from sklearn.metrics import confusion_matrix\n",
    "\n",
    "conf_mat = confusion_matrix(test['Label'], predicted_lsvc)\n",
    "conf_mat"
   ]
  },
  {
   "cell_type": "code",
   "execution_count": null,
   "metadata": {},
   "outputs": [],
   "source": []
  }
 ],
 "metadata": {
  "kernelspec": {
   "display_name": "Python 3",
   "language": "python",
   "name": "python3"
  },
  "language_info": {
   "codemirror_mode": {
    "name": "ipython",
    "version": 3
   },
   "file_extension": ".py",
   "mimetype": "text/x-python",
   "name": "python",
   "nbconvert_exporter": "python",
   "pygments_lexer": "ipython3",
   "version": "3.7.3"
  }
 },
 "nbformat": 4,
 "nbformat_minor": 2
}

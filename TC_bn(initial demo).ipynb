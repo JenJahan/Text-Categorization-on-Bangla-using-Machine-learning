{
 "cells": [
  {
   "cell_type": "code",
   "execution_count": 1,
   "metadata": {},
   "outputs": [],
   "source": [
    "import numpy as np\n",
    "import pandas as pd\n",
    "import matplotlib.pyplot as plt\n",
    "\n",
    "# import warnings filter\n",
    "from warnings import simplefilter\n",
    "# ignore all future warnings\n",
    "simplefilter(action='ignore', category=FutureWarning)\n",
    "\n",
    "import logging\n",
    "from numpy import random\n",
    "#import gensim\n",
    "from sklearn.feature_extraction.text import CountVectorizer, TfidfVectorizer\n",
    "from sklearn.metrics import accuracy_score, confusion_matrix\n",
    "import matplotlib.pyplot as plt\n",
    "from bs4 import BeautifulSoup\n",
    "\n",
    "%matplotlib inline\n",
    "\n"
   ]
  },
  {
   "cell_type": "code",
   "execution_count": 3,
   "metadata": {},
   "outputs": [],
   "source": [
    "data = pd.read_csv(\"data.csv\") "
   ]
  },
  {
   "cell_type": "code",
   "execution_count": 4,
   "metadata": {},
   "outputs": [
    {
     "data": {
      "text/plain": [
       "(39991, 3)"
      ]
     },
     "execution_count": 4,
     "metadata": {},
     "output_type": "execute_result"
    }
   ],
   "source": [
    "data.dropna(inplace=True)\n",
    "data.isnull().sum()\n",
    "data.shape"
   ]
  },
  {
   "cell_type": "code",
   "execution_count": 6,
   "metadata": {},
   "outputs": [
    {
     "name": "stdout",
     "output_type": "stream",
     "text": [
      "bangladesh            12239\n",
      "opinion               10611\n",
      "economy                4771\n",
      "sports                 3349\n",
      "entertainment          2447\n",
      "technology             2113\n",
      "international          1835\n",
      "life-style             1121\n",
      "education               774\n",
      "art-and-literature      366\n",
      "northamerica            189\n",
      "durporobash             176\n",
      "Name: Label, dtype: int64\n"
     ]
    }
   ],
   "source": [
    "print (data['Label'].value_counts())"
   ]
  },
  {
   "cell_type": "code",
   "execution_count": 104,
   "metadata": {
    "scrolled": false
   },
   "outputs": [
    {
     "data": {
      "image/png": "[encoded data removed]",
      "text/plain": [
       "<Figure size 720x288 with 1 Axes>"
      ]
     },
     "metadata": {
      "needs_background": "light"
     },
     "output_type": "display_data"
    }
   ],
   "source": [
    "plt.figure(figsize=(10,4))\n",
    "data.Label.value_counts().plot(kind='bar');"
   ]
  },
  {
   "cell_type": "code",
   "execution_count": 105,
   "metadata": {},
   "outputs": [
    {
     "data": {
      "text/plain": [
       "array(['opinion', 'economy', 'bangladesh', 'sports', 'entertainment',\n",
       "       'life-style', 'international', 'art-and-literature',\n",
       "       'northamerica', 'technology', 'education', 'durporobash'],\n",
       "      dtype=object)"
      ]
     },
     "execution_count": 105,
     "metadata": {},
     "output_type": "execute_result"
    }
   ],
   "source": [
    "tags = data.Label.unique()\n",
    "tags"
   ]
  },
  {
   "cell_type": "code",
   "execution_count": 106,
   "metadata": {},
   "outputs": [],
   "source": [
    "p = [\"!\", \"@\",'–', \"#\", \"|\", \"%\", \"(\", \")\", \"।\", \"—\", \".\", \"-\", \"\", \",\", \"’\", \"•\", \"‘\", \":\", \"*\", \"?\",\n",
    "          \"০\", \"১\", \"২\", \"৩\", \"৪\", \"৫\", \"৬\", \"৭\", \"৮\", \"৯\"]\n",
    "for i in range(len(p)):\n",
    "    data['Text'] = data['Text'].str.replace(p[i],'')"
   ]
  },
  {
   "cell_type": "code",
   "execution_count": 107,
   "metadata": {},
   "outputs": [
    {
     "data": {
      "text/plain": [
       "17153219"
      ]
     },
     "execution_count": 107,
     "metadata": {},
     "output_type": "execute_result"
    }
   ],
   "source": [
    "data['Text'].apply(lambda x: len(x.split(' '))).sum()"
   ]
  },
  {
   "cell_type": "code",
   "execution_count": 108,
   "metadata": {},
   "outputs": [],
   "source": [
    "data['split'] = np.random.randn(data.shape[0], 1)\n",
    "msk = np.random.rand(len(data)) <= 0.25\n",
    "d1 = data[msk]\n",
    "d2 = data[~msk]"
   ]
  },
  {
   "cell_type": "code",
   "execution_count": 109,
   "metadata": {},
   "outputs": [],
   "source": [
    "# fraction of rows\n",
    "# here you get 75% of the rows\n",
    "train = d1.sample(frac=0.75, random_state=99)\n",
    "test = d1.loc[~d1.index.isin(train.index), :]"
   ]
  },
  {
   "cell_type": "code",
   "execution_count": 112,
   "metadata": {},
   "outputs": [],
   "source": [
    "train_size = train.shape[0]\n",
    "test_size  = test.shape[0]"
   ]
  },
  {
   "cell_type": "code",
   "execution_count": 113,
   "metadata": {},
   "outputs": [
    {
     "data": {
      "text/plain": [
       "(7415, 2472)"
      ]
     },
     "execution_count": 113,
     "metadata": {},
     "output_type": "execute_result"
    }
   ],
   "source": [
    "train_size, test_size"
   ]
  },
  {
   "cell_type": "code",
   "execution_count": 114,
   "metadata": {
    "scrolled": true
   },
   "outputs": [
    {
     "data": {
      "text/plain": [
       "(7415, 11726)"
      ]
     },
     "execution_count": 114,
     "metadata": {},
     "output_type": "execute_result"
    }
   ],
   "source": [
    "# Extracting features from text files\n",
    "from sklearn.feature_extraction.text import CountVectorizer\n",
    "count_vect = CountVectorizer()\n",
    "X_train_counts = count_vect.fit_transform(train['Text'].values.astype('U'))\n",
    "X_train_counts.shape"
   ]
  },
  {
   "cell_type": "code",
   "execution_count": 115,
   "metadata": {},
   "outputs": [
    {
     "data": {
      "text/plain": [
       "(7415, 11726)"
      ]
     },
     "execution_count": 115,
     "metadata": {},
     "output_type": "execute_result"
    }
   ],
   "source": [
    "# TF-IDF\n",
    "from sklearn.feature_extraction.text import TfidfTransformer\n",
    "tfidf_transformer = TfidfTransformer()\n",
    "X_train_tfidf = tfidf_transformer.fit_transform(X_train_counts)\n",
    "X_train_tfidf.shape"
   ]
  },
  {
   "cell_type": "code",
   "execution_count": 121,
   "metadata": {},
   "outputs": [],
   "source": [
    "# Machine Learning\n",
    "# Training Naive Bayes (NB) classifier on training data.\n",
    "from sklearn.naive_bayes import MultinomialNB\n",
    "clf = MultinomialNB().fit(X_train_tfidf, train.Label)"
   ]
  },
  {
   "cell_type": "code",
   "execution_count": 122,
   "metadata": {},
   "outputs": [],
   "source": [
    "# Building a pipeline: We can write less code and do all of the above, by building a pipeline as follows:\n",
    "# The names ‘vect’ , ‘tfidf’ and ‘clf’ are arbitrary but will be used later.\n",
    "# We will be using the 'text_clf' going forward.\n",
    "from sklearn.pipeline import Pipeline\n",
    "\n",
    "text_clf = Pipeline([('vect', CountVectorizer()), ('tfidf', TfidfTransformer()), ('clf', MultinomialNB())])\n",
    "\n",
    "text_clf = text_clf.fit(train['Text'].values.astype('U'), train.Label)"
   ]
  },
  {
   "cell_type": "code",
   "execution_count": 123,
   "metadata": {},
   "outputs": [
    {
     "data": {
      "text/plain": [
       "0.5432847896440129"
      ]
     },
     "execution_count": 123,
     "metadata": {},
     "output_type": "execute_result"
    }
   ],
   "source": [
    "# Performance of NB Classifier\n",
    "predicted = text_clf.predict(test['Text'].values.astype('U'))\n",
    "np.mean(predicted == test.Label)"
   ]
  },
  {
   "cell_type": "code",
   "execution_count": 124,
   "metadata": {},
   "outputs": [
    {
     "name": "stdout",
     "output_type": "stream",
     "text": [
      "accuracy 0.5432847896440129\n",
      "                    precision    recall  f1-score   support\n",
      "\n",
      "           opinion       0.00      0.00      0.00        23\n",
      "           economy       0.63      0.86      0.73       724\n",
      "        bangladesh       0.00      0.00      0.00        11\n",
      "            sports       1.00      0.17      0.28       302\n",
      "     entertainment       0.00      0.00      0.00        42\n",
      "        life-style       1.00      0.01      0.02       164\n",
      "     international       0.00      0.00      0.00       125\n",
      "art-and-literature       0.00      0.00      0.00        66\n",
      "      northamerica       0.00      0.00      0.00        10\n",
      "        technology       0.45      0.94      0.61       662\n",
      "         education       1.00      0.19      0.32       218\n",
      "       durporobash       1.00      0.04      0.08       125\n",
      "\n",
      "          accuracy                           0.54      2472\n",
      "         macro avg       0.42      0.18      0.17      2472\n",
      "      weighted avg       0.63      0.54      0.44      2472\n",
      "\n",
      "Wall time: 84.6 ms\n"
     ]
    },
    {
     "name": "stderr",
     "output_type": "stream",
     "text": [
      "C:\\Users\\Jenny\\Anaconda3\\lib\\site-packages\\sklearn\\metrics\\classification.py:1437: UndefinedMetricWarning: Precision and F-score are ill-defined and being set to 0.0 in labels with no predicted samples.\n",
      "  'precision', 'predicted', average, warn_for)\n"
     ]
    }
   ],
   "source": [
    "%%time\n",
    "from sklearn.metrics import classification_report\n",
    "\n",
    "print('accuracy %s' % accuracy_score(predicted, test.Label))\n",
    "print(classification_report(test.Label, predicted,target_names=tags))"
   ]
  },
  {
   "cell_type": "code",
   "execution_count": 125,
   "metadata": {},
   "outputs": [
    {
     "data": {
      "text/plain": [
       "0.7900485436893204"
      ]
     },
     "execution_count": 125,
     "metadata": {},
     "output_type": "execute_result"
    }
   ],
   "source": [
    "# Training Support Vector Machines - SVM and calculating its performance\n",
    "\n",
    "from sklearn.linear_model import SGDClassifier\n",
    "text_clf_svm = Pipeline([('vect', CountVectorizer()), ('tfidf', TfidfTransformer()),\n",
    "                         ('clf-svm', SGDClassifier(loss='hinge', penalty='l2',alpha=1e-3, max_iter=15, random_state=42))])\n",
    "\n",
    "text_clf_svm = text_clf_svm.fit(train['Text'].values.astype('U'), train['Label'].values.astype('U'))\n",
    "predicted_svm = text_clf_svm.predict(test['Text'].values.astype('U'))\n",
    "np.mean(predicted_svm == test['Label'].values.astype('U'))"
   ]
  },
  {
   "cell_type": "code",
   "execution_count": 126,
   "metadata": {},
   "outputs": [
    {
     "name": "stdout",
     "output_type": "stream",
     "text": [
      "accuracy 0.7900485436893204\n",
      "                    precision    recall  f1-score   support\n",
      "\n",
      "           opinion       1.00      0.04      0.08        23\n",
      "           economy       0.77      0.88      0.82       724\n",
      "        bangladesh       0.00      0.00      0.00        11\n",
      "            sports       0.80      0.79      0.80       302\n",
      "     entertainment       1.00      0.12      0.21        42\n",
      "        life-style       0.88      0.76      0.82       164\n",
      "     international       1.00      0.06      0.12       125\n",
      "art-and-literature       0.91      0.45      0.61        66\n",
      "      northamerica       0.00      0.00      0.00        10\n",
      "        technology       0.74      0.92      0.82       662\n",
      "         education       0.89      0.95      0.92       218\n",
      "       durporobash       0.84      0.75      0.79       125\n",
      "\n",
      "          accuracy                           0.79      2472\n",
      "         macro avg       0.74      0.48      0.50      2472\n",
      "      weighted avg       0.80      0.79      0.76      2472\n",
      "\n",
      "Wall time: 84.6 ms\n"
     ]
    }
   ],
   "source": [
    "%%time\n",
    "print('accuracy %s' % accuracy_score(predicted_svm, test.Label))\n",
    "print(classification_report(test.Label, predicted_svm,target_names=tags))"
   ]
  },
  {
   "cell_type": "code",
   "execution_count": 129,
   "metadata": {},
   "outputs": [],
   "source": [
    "# Grid Search\n",
    "# Here, we are creating a list of parameters for which we would like to do performance tuning. \n",
    "# All the parameters name start with the classifier name (remember the arbitrary name we gave). \n",
    "# E.g. vect__ngram_range; here we are telling to use unigram and bigrams and choose the one which is optimal.\n",
    "\n",
    "from sklearn.model_selection import GridSearchCV\n",
    "parameters = {'vect__ngram_range': [(1, 1), (1, 2)], 'tfidf__use_idf': (True, False), 'clf__alpha': (1e-2, 1e-3)}"
   ]
  },
  {
   "cell_type": "code",
   "execution_count": 130,
   "metadata": {},
   "outputs": [],
   "source": [
    "# Next, we create an instance of the grid search by passing the classifier, parameters \n",
    "# and n_jobs=-1 which tells to use multiple cores from user machine.\n",
    "\n",
    "gs_clf = GridSearchCV(text_clf, parameters, n_jobs=-1)\n",
    "gs_clf = gs_clf.fit(train['Text'].values.astype('U'), train['Label'].values.astype('U'))"
   ]
  },
  {
   "cell_type": "code",
   "execution_count": 131,
   "metadata": {},
   "outputs": [
    {
     "data": {
      "text/plain": [
       "{'clf__alpha': 0.001, 'tfidf__use_idf': False, 'vect__ngram_range': (1, 2)}"
      ]
     },
     "execution_count": 131,
     "metadata": {},
     "output_type": "execute_result"
    }
   ],
   "source": [
    "\n",
    "# To see the best mean score and the params, run the following code\n",
    "\n",
    "gs_clf.best_score_\n",
    "gs_clf.best_params_\n"
   ]
  },
  {
   "cell_type": "code",
   "execution_count": 134,
   "metadata": {},
   "outputs": [
    {
     "data": {
      "text/plain": [
       "0.7961165048543689"
      ]
     },
     "execution_count": 134,
     "metadata": {},
     "output_type": "execute_result"
    }
   ],
   "source": [
    "predicted = gs_clf.predict(test['Text'].values.astype('U'))\n",
    "np.mean(predicted == test.Label)"
   ]
  },
  {
   "cell_type": "code",
   "execution_count": 135,
   "metadata": {},
   "outputs": [
    {
     "name": "stdout",
     "output_type": "stream",
     "text": [
      "accuracy 0.7961165048543689\n",
      "                    precision    recall  f1-score   support\n",
      "\n",
      "           opinion       1.00      0.04      0.08        23\n",
      "           economy       0.83      0.84      0.84       724\n",
      "        bangladesh       0.00      0.00      0.00        11\n",
      "            sports       0.89      0.78      0.83       302\n",
      "     entertainment       0.80      0.38      0.52        42\n",
      "        life-style       0.95      0.76      0.84       164\n",
      "     international       0.94      0.23      0.37       125\n",
      "art-and-literature       0.95      0.55      0.69        66\n",
      "      northamerica       1.00      0.20      0.33        10\n",
      "        technology       0.66      0.96      0.78       662\n",
      "         education       0.98      0.89      0.93       218\n",
      "       durporobash       0.89      0.70      0.78       125\n",
      "\n",
      "          accuracy                           0.80      2472\n",
      "         macro avg       0.82      0.53      0.58      2472\n",
      "      weighted avg       0.82      0.80      0.78      2472\n",
      "\n",
      "Wall time: 98.3 ms\n"
     ]
    },
    {
     "name": "stderr",
     "output_type": "stream",
     "text": [
      "C:\\Users\\Jenny\\Anaconda3\\lib\\site-packages\\sklearn\\metrics\\classification.py:1437: UndefinedMetricWarning: Precision and F-score are ill-defined and being set to 0.0 in labels with no predicted samples.\n",
      "  'precision', 'predicted', average, warn_for)\n"
     ]
    }
   ],
   "source": [
    "%%time\n",
    "\n",
    "print('accuracy %s' % accuracy_score(predicted, test.Label))\n",
    "print(classification_report(test.Label, predicted,target_names=tags))"
   ]
  },
  {
   "cell_type": "code",
   "execution_count": 136,
   "metadata": {},
   "outputs": [
    {
     "data": {
      "text/plain": [
       "{'clf-svm__alpha': 0.001, 'tfidf__use_idf': True, 'vect__ngram_range': (1, 1)}"
      ]
     },
     "execution_count": 136,
     "metadata": {},
     "output_type": "execute_result"
    }
   ],
   "source": [
    "\n",
    "# Similarly doing grid search for SVM\n",
    "from sklearn.model_selection import GridSearchCV\n",
    "parameters_svm = {'vect__ngram_range': [(1, 1), (1, 2)], 'tfidf__use_idf': (True, False),'clf-svm__alpha': (1e-2, 1e-3)}\n",
    "\n",
    "gs_clf_svm = GridSearchCV(text_clf_svm, parameters_svm, n_jobs=-1)\n",
    "gs_clf_svm = gs_clf_svm.fit(train['Text'].values.astype('U'), train['Label'].values.astype('U'))\n",
    "\n",
    "\n",
    "gs_clf_svm.best_score_\n",
    "gs_clf_svm.best_params_"
   ]
  },
  {
   "cell_type": "code",
   "execution_count": 137,
   "metadata": {},
   "outputs": [
    {
     "data": {
      "text/plain": [
       "0.7900485436893204"
      ]
     },
     "execution_count": 137,
     "metadata": {},
     "output_type": "execute_result"
    }
   ],
   "source": [
    "predicted_svm = gs_clf_svm.predict(test['Text'].values.astype('U'))\n",
    "np.mean(predicted_svm == test['Label'].values.astype('U'))"
   ]
  },
  {
   "cell_type": "code",
   "execution_count": 138,
   "metadata": {},
   "outputs": [
    {
     "name": "stdout",
     "output_type": "stream",
     "text": [
      "accuracy 0.7900485436893204\n",
      "                    precision    recall  f1-score   support\n",
      "\n",
      "           opinion       1.00      0.04      0.08        23\n",
      "           economy       0.77      0.88      0.82       724\n",
      "        bangladesh       0.00      0.00      0.00        11\n",
      "            sports       0.80      0.79      0.80       302\n",
      "     entertainment       1.00      0.12      0.21        42\n",
      "        life-style       0.88      0.76      0.82       164\n",
      "     international       1.00      0.06      0.12       125\n",
      "art-and-literature       0.91      0.45      0.61        66\n",
      "      northamerica       0.00      0.00      0.00        10\n",
      "        technology       0.74      0.92      0.82       662\n",
      "         education       0.89      0.95      0.92       218\n",
      "       durporobash       0.84      0.75      0.79       125\n",
      "\n",
      "          accuracy                           0.79      2472\n",
      "         macro avg       0.74      0.48      0.50      2472\n",
      "      weighted avg       0.80      0.79      0.76      2472\n",
      "\n",
      "Wall time: 100 ms\n"
     ]
    },
    {
     "name": "stderr",
     "output_type": "stream",
     "text": [
      "C:\\Users\\Jenny\\Anaconda3\\lib\\site-packages\\sklearn\\metrics\\classification.py:1437: UndefinedMetricWarning: Precision and F-score are ill-defined and being set to 0.0 in labels with no predicted samples.\n",
      "  'precision', 'predicted', average, warn_for)\n"
     ]
    }
   ],
   "source": [
    "%%time\n",
    "from sklearn.metrics import classification_report\n",
    "\n",
    "print('accuracy %s' % accuracy_score(predicted_svm, test.Label))\n",
    "print(classification_report(test.Label, predicted_svm,target_names=tags))"
   ]
  },
  {
   "cell_type": "code",
   "execution_count": 139,
   "metadata": {},
   "outputs": [
    {
     "data": {
      "text/plain": [
       "0.5865695792880259"
      ]
     },
     "execution_count": 139,
     "metadata": {},
     "output_type": "execute_result"
    }
   ],
   "source": [
    "from sklearn.tree import DecisionTreeClassifier # Import Decision Tree Classifier\n",
    "# Create Decision Tree classifer object\n",
    "text_clf_dt = Pipeline([('vect', CountVectorizer()), ('tfidf', TfidfTransformer()),\n",
    "                         ('clf-dt', DecisionTreeClassifier(criterion='gini',splitter='best',\n",
    "                                                           max_depth=20))])\n",
    "\n",
    "# Train Decision Tree Classifer\n",
    "text_clf_dt = text_clf_dt.fit(train['Text'].values.astype('U'), train['Label'].values.astype('U'))\n",
    "\n",
    "#Predict the response for test dataset\n",
    "predicted_dt = text_clf_dt.predict(test['Text'].values.astype('U'))\n",
    "np.mean(predicted_dt == test['Label'].values.astype('U'))"
   ]
  },
  {
   "cell_type": "code",
   "execution_count": 140,
   "metadata": {},
   "outputs": [
    {
     "name": "stdout",
     "output_type": "stream",
     "text": [
      "accuracy 0.5865695792880259\n",
      "                    precision    recall  f1-score   support\n",
      "\n",
      "           opinion       0.07      0.04      0.05        23\n",
      "           economy       0.62      0.72      0.66       724\n",
      "        bangladesh       0.00      0.00      0.00        11\n",
      "            sports       0.50      0.52      0.51       302\n",
      "     entertainment       0.21      0.21      0.21        42\n",
      "        life-style       0.59      0.50      0.54       164\n",
      "     international       0.22      0.10      0.14       125\n",
      "art-and-literature       0.43      0.44      0.44        66\n",
      "      northamerica       0.08      0.10      0.09        10\n",
      "        technology       0.67      0.70      0.68       662\n",
      "         education       0.72      0.56      0.63       218\n",
      "       durporobash       0.44      0.46      0.45       125\n",
      "\n",
      "          accuracy                           0.59      2472\n",
      "         macro avg       0.38      0.36      0.37      2472\n",
      "      weighted avg       0.57      0.59      0.58      2472\n",
      "\n",
      "Wall time: 84.6 ms\n"
     ]
    }
   ],
   "source": [
    "%%time\n",
    "from sklearn.metrics import classification_report\n",
    "\n",
    "print('accuracy %s' % accuracy_score(predicted_dt, test.Label))\n",
    "print(classification_report(test.Label, predicted_dt,target_names=tags))"
   ]
  },
  {
   "cell_type": "code",
   "execution_count": 143,
   "metadata": {},
   "outputs": [
    {
     "data": {
      "text/plain": [
       "0.8211974110032363"
      ]
     },
     "execution_count": 143,
     "metadata": {},
     "output_type": "execute_result"
    }
   ],
   "source": [
    "from sklearn.linear_model import LogisticRegression\n",
    "\n",
    "text_clf_lr = Pipeline([('vect', CountVectorizer()),\n",
    "                ('tfidf', TfidfTransformer()),\n",
    "                ('clf-lr', LogisticRegression(n_jobs=1, C=1e5)),\n",
    "               ])\n",
    "text_clf_lr = text_clf_lr.fit(train['Text'].values.astype('U'), train['Label'].values.astype('U'))\n",
    "\n",
    "#Predict the response for test dataset\n",
    "predicted_lr = text_clf_lr.predict(test['Text'].values.astype('U'))\n",
    "np.mean(predicted_lr == test['Label'].values.astype('U'))"
   ]
  },
  {
   "cell_type": "code",
   "execution_count": 144,
   "metadata": {},
   "outputs": [
    {
     "name": "stdout",
     "output_type": "stream",
     "text": [
      "accuracy 0.8211974110032363\n",
      "                    precision    recall  f1-score   support\n",
      "\n",
      "           opinion       0.70      0.30      0.42        23\n",
      "           economy       0.83      0.84      0.84       724\n",
      "        bangladesh       0.50      0.18      0.27        11\n",
      "            sports       0.77      0.78      0.78       302\n",
      "     entertainment       0.65      0.57      0.61        42\n",
      "        life-style       0.88      0.82      0.85       164\n",
      "     international       0.72      0.50      0.59       125\n",
      "art-and-literature       0.78      0.74      0.76        66\n",
      "      northamerica       0.50      0.30      0.37        10\n",
      "        technology       0.83      0.89      0.86       662\n",
      "         education       0.94      0.94      0.94       218\n",
      "       durporobash       0.78      0.82      0.80       125\n",
      "\n",
      "          accuracy                           0.82      2472\n",
      "         macro avg       0.74      0.64      0.67      2472\n",
      "      weighted avg       0.82      0.82      0.82      2472\n",
      "\n",
      "Wall time: 84.7 ms\n"
     ]
    }
   ],
   "source": [
    "%%time\n",
    "from sklearn.metrics import classification_report\n",
    "\n",
    "print('accuracy %s' % accuracy_score(predicted_lr, test.Label))\n",
    "print(classification_report(test.Label, predicted_lr,target_names=tags))"
   ]
  },
  {
   "cell_type": "code",
   "execution_count": null,
   "metadata": {},
   "outputs": [],
   "source": []
  }
 ],
 "metadata": {
  "kernelspec": {
   "display_name": "Python 3",
   "language": "python",
   "name": "python3"
  },
  "language_info": {
   "codemirror_mode": {
    "name": "ipython",
    "version": 3
   },
   "file_extension": ".py",
   "mimetype": "text/x-python",
   "name": "python",
   "nbconvert_exporter": "python",
   "pygments_lexer": "ipython3",
   "version": "3.7.3"
  }
 },
 "nbformat": 4,
 "nbformat_minor": 4
}

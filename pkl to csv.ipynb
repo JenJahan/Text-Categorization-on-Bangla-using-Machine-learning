{
 "cells": [
  {
   "cell_type": "code",
   "execution_count": 34,
   "metadata": {},
   "outputs": [],
   "source": [
    "import numpy as np # linear algebra\n",
    "import pandas as pd # data processing, CSV file I/O (e.g. pd.read_csv)\n",
    "import matplotlib.pyplot as plt\n",
    "\n",
    "import pickle\n",
    "from collections import Counter\n",
    "\n",
    "import os"
   ]
  },
  {
   "cell_type": "code",
   "execution_count": 35,
   "metadata": {
    "scrolled": true
   },
   "outputs": [],
   "source": [
    "with open('D:/Capstone/Dataset/40k_bangla_newspaper_article.p', 'rb') as f: #open file from secondary storage\n", 
    "    data = pickle.load(f)\n",
    "pik=pd.read_pickle('D:/Capstone/Dataset/40k_bangla_newspaper_article.p')\n",
    "pik=pd.DataFrame(pik)"
   ]
  },
  {
   "cell_type": "code",
   "execution_count": 44,
   "metadata": {},
   "outputs": [],
   "source": [
    "pik.columns = ['Label','Text','Title']\n",
    "pik.to_csv(\"data.csv\", index=False, header=True)"
   ]
  },
  {
   "cell_type": "code",
   "execution_count": 45,
   "metadata": {},
   "outputs": [],
   "source": [
    "pik.to_csv(r'C:\\\\Users\\\\Jenny\\\\Downloads\\\\data.csv',index=False, header=['Label','Text','Title']) #download into secondary storage"
   ]
  }
 ],
 "metadata": {
  "kernelspec": {
   "display_name": "Python 3",
   "language": "python",
   "name": "python3"
  },
  "language_info": {
   "codemirror_mode": {
    "name": "ipython",
    "version": 3
   },
   "file_extension": ".py",
   "mimetype": "text/x-python",
   "name": "python",
   "nbconvert_exporter": "python",
   "pygments_lexer": "ipython3",
   "version": "3.7.1"
  }
 },
 "nbformat": 4,
 "nbformat_minor": 2
}

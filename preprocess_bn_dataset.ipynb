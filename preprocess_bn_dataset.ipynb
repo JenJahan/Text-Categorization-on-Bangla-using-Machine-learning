{
 "cells": [
  {
   "cell_type": "code",
   "execution_count": 1,
   "metadata": {},
   "outputs": [],
   "source": [
    "import numpy as np\n",
    "import pandas as pd\n",
    "import matplotlib.pyplot as plt"
   ]
  },
  {
   "cell_type": "code",
   "execution_count": 2,
   "metadata": {},
   "outputs": [],
   "source": [
    "data = pd.read_csv(\"data.csv\") "
   ]
  },
  {
   "cell_type": "code",
   "execution_count": 3,
   "metadata": {},
   "outputs": [
    {
     "data": {
      "text/plain": [
       "(40000, 3)"
      ]
     },
     "execution_count": 3,
     "metadata": {},
     "output_type": "execute_result"
    }
   ],
   "source": [
    "data.shape"
   ]
  },
  {
   "cell_type": "code",
   "execution_count": 4,
   "metadata": {
    "scrolled": true
   },
   "outputs": [
    {
     "name": "stdout",
     "output_type": "stream",
     "text": [
      "Label\n",
      "art-and-literature      368\n",
      "bangladesh            12239\n",
      "durporobash             176\n",
      "economy                4771\n",
      "education               774\n",
      "entertainment          2448\n",
      "international          1835\n",
      "life-style             1121\n",
      "northamerica            189\n",
      "opinion               10611\n",
      "sports                 3354\n",
      "technology             2113\n",
      "dtype: int64\n"
     ]
    }
   ],
   "source": [
    "print(data.groupby('Label').size())"
   ]
  },
  {
   "cell_type": "code",
   "execution_count": 5,
   "metadata": {
    "scrolled": false
   },
   "outputs": [
    {
     "data": {
      "image/png": "[encoded data removed]",
      "text/plain": [
       "<Figure size 720x288 with 1 Axes>"
      ]
     },
     "metadata": {
      "needs_background": "light"
     },
     "output_type": "display_data"
    }
   ],
   "source": [
    "plt.figure(figsize=(10,4)) # whole dataset visualisation\n",
    "data.Label.value_counts().plot(kind='bar');"
   ]
  },
  {
   "cell_type": "code",
   "execution_count": 6,
   "metadata": {},
   "outputs": [],
   "source": [
    "p = [\"!\", \"@\",'–', \"#\", \"|\", \"%\", \"(\", \")\", \"।\", \"—\", \".\", \"-\", \"\", \",\", \"’\", \"•\", \"‘\", \":\", \"*\", \"?\",\n",
    "          \"০\", \"১\", \"২\", \"৩\", \"৪\", \"৫\", \"৬\", \"৭\", \"৮\", \"৯\"]\n",
    "for i in range(len(p)):\n",
    "    data['Text'] = data['Text'].str.replace(p[i],'')"
   ]
  },
  {
   "cell_type": "code",
   "execution_count": 7,
   "metadata": {},
   "outputs": [
    {
     "data": {
      "text/plain": [
       "(38737, 3)"
      ]
     },
     "execution_count": 7,
     "metadata": {},
     "output_type": "execute_result"
    }
   ],
   "source": [
    "data = data.drop_duplicates() #removes duplicate instances\n",
    "data.dropna(inplace=True)\n",
    "data.isnull().sum() #removes missing info instances\n",
    "data.shape"
   ]
  },
  {
   "cell_type": "code",
   "execution_count": 8,
   "metadata": {
    "scrolled": false
   },
   "outputs": [
    {
     "data": {
      "text/plain": [
       "array(['opinion', 'economy', 'bangladesh', 'sports', 'entertainment',\n",
       "       'life-style', 'international', 'art-and-literature',\n",
       "       'northamerica', 'technology', 'education', 'durporobash'],\n",
       "      dtype=object)"
      ]
     },
     "execution_count": 8,
     "metadata": {},
     "output_type": "execute_result"
    }
   ],
   "source": [
    "tags = data['Label'].unique()\n",
    "tag_size = data['Label'].value_counts()\n",
    "#print(data['Label'].unique())\n",
    "tags"
   ]
  },
  {
   "cell_type": "code",
   "execution_count": 9,
   "metadata": {},
   "outputs": [
    {
     "data": {
      "text/plain": [
       "(38027, 3)"
      ]
     },
     "execution_count": 9,
     "metadata": {},
     "output_type": "execute_result"
    }
   ],
   "source": [
    "# removing less instances categories\n",
    "data = data[data.Label != 'art-and-literature']\n",
    "data = data[data.Label != 'durporobash']\n",
    "data = data[data.Label != 'northamerica']\n",
    "data.shape"
   ]
  },
  {
   "cell_type": "code",
   "execution_count": 10,
   "metadata": {
    "scrolled": true
   },
   "outputs": [
    {
     "name": "stdout",
     "output_type": "stream",
     "text": [
      "bangladesh       12219\n",
      "opinion          10169\n",
      "economy           4642\n",
      "sports            3167\n",
      "entertainment     2354\n",
      "technology        1994\n",
      "international     1672\n",
      "life-style        1070\n",
      "education          740\n",
      "Name: Label, dtype: int64\n"
     ]
    }
   ],
   "source": [
    "print (data['Label'].value_counts()) #minimum instances number = 740"
   ]
  },
  {
   "cell_type": "code",
   "execution_count": 11,
   "metadata": {},
   "outputs": [],
   "source": [
    "# sampling each category with minimum number of instances\n",
    "d_bn = data[data.Label == 'bangladesh']\n",
    "d_op = data[data.Label == 'opinion']\n",
    "d_ec = data[data.Label == 'economy']\n",
    "d_sp = data[data.Label == 'sports']\n",
    "d_en = data[data.Label == 'entertainment']\n",
    "d_tc = data[data.Label == 'technology']\n",
    "d_in = data[data.Label == 'international']\n",
    "d_ls = data[data.Label == 'life-style']\n",
    "d_ed = data[data.Label == 'education']\n",
    "\n",
    "random_bn = d_bn.sample(n=740, replace=False, random_state=99)\n",
    "random_op = d_op.sample(n=740, replace=False, random_state=99)\n",
    "random_ec = d_ec.sample(n=740, replace=False, random_state=99)\n",
    "random_sp = d_sp.sample(n=740, replace=False, random_state=99)\n",
    "random_en = d_en.sample(n=740, replace=False, random_state=99)\n",
    "random_tc = d_tc.sample(n=740, replace=False, random_state=99)\n",
    "random_in = d_in.sample(n=740, replace=False, random_state=99)\n",
    "random_ls = d_ls.sample(n=740, replace=False, random_state=99)"
   ]
  },
  {
   "cell_type": "code",
   "execution_count": 12,
   "metadata": {},
   "outputs": [
    {
     "data": {
      "text/plain": [
       "(6660, 3)"
      ]
     },
     "execution_count": 12,
     "metadata": {},
     "output_type": "execute_result"
    }
   ],
   "source": [
    "newData = pd.concat([random_bn,random_op,random_ec,random_sp,random_en,random_tc,random_in,random_ls,d_ed])\n",
    "newData.shape"
   ]
  },
  {
   "cell_type": "code",
   "execution_count": 13,
   "metadata": {},
   "outputs": [],
   "source": [
    "sample = data.loc[~data.index.isin(newData.index), :]"
   ]
  },
  {
   "cell_type": "code",
   "execution_count": 94,
   "metadata": {},
   "outputs": [
    {
     "data": {
      "image/png": "[encoded data removed]",
      "text/plain": [
       "<Figure size 720x288 with 1 Axes>"
      ]
     },
     "metadata": {
      "needs_background": "light"
     },
     "output_type": "display_data"
    }
   ],
   "source": [
    "plt.figure(figsize=(10,4))\n",
    "newData.Label.value_counts().plot(kind='bar');"
   ]
  },
  {
   "cell_type": "code",
   "execution_count": 95,
   "metadata": {
    "scrolled": true
   },
   "outputs": [
    {
     "data": {
      "text/plain": [
       "2533496"
      ]
     },
     "execution_count": 95,
     "metadata": {},
     "output_type": "execute_result"
    }
   ],
   "source": [
    "newData['Text'].apply(lambda x: len(x.split(' '))).sum()"
   ]
  },
  {
   "cell_type": "code",
   "execution_count": 96,
   "metadata": {},
   "outputs": [],
   "source": [
    "preProcessedData=pd.DataFrame(newData)\n",
    "preProcessedData.columns = ['Label','Text','Title']\n",
    "preProcessedData.to_csv(\"preProcessedData.csv\", index=False, header=True)"
   ]
  },
  {
   "cell_type": "code",
   "execution_count": null,
   "metadata": {},
   "outputs": [],
   "source": [
    "sampleData=pd.DataFrame(newData)\n",
    "preProcessedData.columns = ['Label','Text','Title']\n",
    "preProcessedData.to_csv(\"preProcessedData.csv\", index=False, header=True)"
   ]
  }
 ],
 "metadata": {
  "kernelspec": {
   "display_name": "Python 3",
   "language": "python",
   "name": "python3"
  },
  "language_info": {
   "codemirror_mode": {
    "name": "ipython",
    "version": 3
   },
   "file_extension": ".py",
   "mimetype": "text/x-python",
   "name": "python",
   "nbconvert_exporter": "python",
   "pygments_lexer": "ipython3",
   "version": "3.7.3"
  }
 },
 "nbformat": 4,
 "nbformat_minor": 2
}
